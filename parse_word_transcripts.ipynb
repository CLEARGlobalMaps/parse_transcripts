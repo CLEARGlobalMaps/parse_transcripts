{
 "cells": [
  {
   "cell_type": "code",
   "execution_count": null,
   "metadata": {},
   "outputs": [],
   "source": [
    "import docx\n",
    "import pandas as pd\n",
    "import os"
   ]
  },
  {
   "cell_type": "code",
   "execution_count": null,
   "metadata": {},
   "outputs": [],
   "source": [
    "def parse_transcript(file_path,file,subdir):\n",
    "    data = pd.DataFrame(columns=['text'])\n",
    "    for para in docx.Document(file_path).paragraphs:\n",
    "        data.loc[len(data)] = {'text': para.text}\n",
    "    data = data.text.str.split(':',expand=True)\n",
    "    data = data.rename(columns={0:'heading'})\n",
    "    data['transcript'] =data[data.columns[1:]].apply(lambda row: ' '.join(row.values.astype(str)), axis=1)\n",
    "    data['transcript'] = data['transcript'].str.replace('None','',regex=True)\n",
    "    data = data[data['transcript']!='']\n",
    "    data = data[['heading','transcript']]\n",
    "    data['heading'] = data['heading'].str.strip()\n",
    "    data['transcript'] = data['transcript'].str.strip()\n",
    "    for metadata in ['Date','Durée','Lieu','Participant','Etat civil']:\n",
    "        try: \n",
    "            data[metadata] = data[data['heading']==metadata]['transcript'].astype(str).values[0]\n",
    "        except:\n",
    "            data[metadata] = None\n",
    "    data['file'] = file\n",
    "    data['directory'] = subdir\n",
    "    return data"
   ]
  },
  {
   "cell_type": "code",
   "execution_count": null,
   "metadata": {},
   "outputs": [],
   "source": [
    "directory = input(\"Enter the full path of the director with all the files: \")"
   ]
  },
  {
   "cell_type": "code",
   "execution_count": null,
   "metadata": {},
   "outputs": [],
   "source": [
    "data = pd.DataFrame()\n",
    "for subdir, dirs, files in os.walk(directory):\n",
    "    for file in files:\n",
    "        try: \n",
    "            data = pd.concat([data, parse_transcript(os.path.join(subdir, file),file,subdir.replace(directory,''))])\n",
    "        except:\n",
    "            print(os.path.join(subdir, file))"
   ]
  },
  {
   "cell_type": "code",
   "execution_count": null,
   "metadata": {},
   "outputs": [],
   "source": [
    "data.to_excel(directory+'transcript_data.xlsx')"
   ]
  }
 ],
 "metadata": {
  "kernelspec": {
   "display_name": "Python 3",
   "language": "python",
   "name": "python3"
  },
  "language_info": {
   "codemirror_mode": {
    "name": "ipython",
    "version": 3
   },
   "file_extension": ".py",
   "mimetype": "text/x-python",
   "name": "python",
   "nbconvert_exporter": "python",
   "pygments_lexer": "ipython3",
   "version": "3.10.9 (tags/v3.10.9:1dd9be6, Dec  6 2022, 20:01:21) [MSC v.1934 64 bit (AMD64)]"
  },
  "orig_nbformat": 4,
  "vscode": {
   "interpreter": {
    "hash": "9d1af5a4960a96d7621722435ce13e2a5fde01041db7fd0603c44397b4f28380"
   }
  }
 },
 "nbformat": 4,
 "nbformat_minor": 2
}
